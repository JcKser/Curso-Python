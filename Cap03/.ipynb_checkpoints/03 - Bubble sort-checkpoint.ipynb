{
 "cells": [
  {
   "cell_type": "code",
   "execution_count": 1,
   "id": "fb665af7",
   "metadata": {},
   "outputs": [],
   "source": [
    "Lista = [x for x in range(5)]"
   ]
  },
  {
   "cell_type": "code",
   "execution_count": 2,
   "id": "3e950e15",
   "metadata": {},
   "outputs": [],
   "source": [
    "def bubble_sort(arr):\n",
    "    n = len(arr)\n",
    "    \n",
    "    # Para cada elemento i com array\n",
    "    for i in range(n):\n",
    "        # Para cada elemento j com array\n",
    "        for j in range(0, n-i-1):\n",
    "            # Se o elemento j for maior que o elemento j+1\n",
    "            if arr[j] > arr[j+1]:\n",
    "                # Troque os elementos j e j+1\n",
    "                arr[j], arr[j+1] = arr[j+1], arr[j]\n",
    "    \n",
    "    return arr"
   ]
  },
  {
   "cell_type": "code",
   "execution_count": 3,
   "id": "11e26872",
   "metadata": {},
   "outputs": [
    {
     "name": "stdout",
     "output_type": "stream",
     "text": [
      "Digite um novo valor para o elemento na posição 0: 1\n",
      "Digite um novo valor para o elemento na posição 1: 2\n",
      "Digite um novo valor para o elemento na posição 2: 45\n",
      "Digite um novo valor para o elemento na posição 3: 6\n",
      "Digite um novo valor para o elemento na posição 4: 4\n"
     ]
    }
   ],
   "source": [
    "for i in range(len(Lista)):\n",
    "    novo_valor = float(input(f\"Digite um novo valor para o elemento na posição {i}: \"))\n",
    "    Lista[i] = novo_valor"
   ]
  },
  {
   "cell_type": "code",
   "execution_count": 4,
   "id": "f08d881a",
   "metadata": {},
   "outputs": [
    {
     "name": "stdout",
     "output_type": "stream",
     "text": [
      "[1.0, 2.0, 4.0, 6.0, 45.0]\n"
     ]
    }
   ],
   "source": [
    "print(bubble_sort(Lista))"
   ]
  },
  {
   "cell_type": "code",
   "execution_count": null,
   "id": "712fb9ab",
   "metadata": {},
   "outputs": [],
   "source": []
  }
 ],
 "metadata": {
  "kernelspec": {
   "display_name": "Python 3 (ipykernel)",
   "language": "python",
   "name": "python3"
  },
  "language_info": {
   "codemirror_mode": {
    "name": "ipython",
    "version": 3
   },
   "file_extension": ".py",
   "mimetype": "text/x-python",
   "name": "python",
   "nbconvert_exporter": "python",
   "pygments_lexer": "ipython3",
   "version": "3.9.13"
  }
 },
 "nbformat": 4,
 "nbformat_minor": 5
}

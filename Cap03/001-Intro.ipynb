{
 "cells": [
  {
   "cell_type": "code",
   "execution_count": 1,
   "id": "533d3bef",
   "metadata": {},
   "outputs": [
    {
     "name": "stdout",
     "output_type": "stream",
     "text": [
      "Bem-vindo ao Calculador da Área de Paralelogramo\n",
      "Insira p comprimento da base: 35\n",
      "Insira a altura: 2\n",
      "A área do paralelograma é:  70.0\n"
     ]
    }
   ],
   "source": [
    "print(\"Bem-vindo ao Calculador da Área de Paralelogramo\")\n",
    "\n",
    "base = float(input(\"Insira p comprimento da base: \"))\n",
    "altura = float(input(\"Insira a altura: \"))\n",
    "area= base * altura\n",
    "print(\"A área do paralelograma é: \", area)"
   ]
  },
  {
   "cell_type": "code",
   "execution_count": 2,
   "id": "8537cba5",
   "metadata": {},
   "outputs": [
    {
     "name": "stdout",
     "output_type": "stream",
     "text": [
      "Bem-vindo ao Calculador da Área de Paralelogramo\n"
     ]
    }
   ],
   "source": [
    "print(\"Bem-vindo ao Calculador da Área de Paralelogramo\")\n"
   ]
  },
  {
   "cell_type": "code",
   "execution_count": 3,
   "id": "7e925a38",
   "metadata": {},
   "outputs": [
    {
     "name": "stdout",
     "output_type": "stream",
     "text": [
      "Insira p comprimento da base: 35\n"
     ]
    }
   ],
   "source": [
    "base = float(input(\"Insira p comprimento da base: \"))\n"
   ]
  },
  {
   "cell_type": "code",
   "execution_count": 4,
   "id": "dade42bb",
   "metadata": {},
   "outputs": [
    {
     "name": "stdout",
     "output_type": "stream",
     "text": [
      "Insira a altura: 5\n"
     ]
    }
   ],
   "source": [
    "altura = float(input(\"Insira a altura: \"))"
   ]
  },
  {
   "cell_type": "code",
   "execution_count": 5,
   "id": "6c45e528",
   "metadata": {},
   "outputs": [],
   "source": [
    "area= base * altura\n"
   ]
  },
  {
   "cell_type": "code",
   "execution_count": 6,
   "id": "4d5cc992",
   "metadata": {},
   "outputs": [
    {
     "name": "stdout",
     "output_type": "stream",
     "text": [
      "A área do paralelograma é:  175.0\n"
     ]
    }
   ],
   "source": [
    "print(\"A área do paralelograma é: \", area)"
   ]
  },
  {
   "cell_type": "code",
   "execution_count": null,
   "id": "1b5dcc9c",
   "metadata": {},
   "outputs": [],
   "source": []
  }
 ],
 "metadata": {
  "kernelspec": {
   "display_name": "Python 3 (ipykernel)",
   "language": "python",
   "name": "python3"
  },
  "language_info": {
   "codemirror_mode": {
    "name": "ipython",
    "version": 3
   },
   "file_extension": ".py",
   "mimetype": "text/x-python",
   "name": "python",
   "nbconvert_exporter": "python",
   "pygments_lexer": "ipython3",
   "version": "3.9.13"
  }
 },
 "nbformat": 4,
 "nbformat_minor": 5
}

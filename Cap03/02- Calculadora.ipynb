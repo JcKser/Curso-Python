{
 "cells": [
  {
   "cell_type": "code",
   "execution_count": 17,
   "id": "43d34e80",
   "metadata": {},
   "outputs": [
    {
     "name": "stdout",
     "output_type": "stream",
     "text": [
      "Bem vindo a calculadora\n",
      "Escolha sua açao\n",
      "Multiplicar / Dividir / Somar / Subtrair: Somar\n"
     ]
    }
   ],
   "source": [
    "def Mult(a,b):\n",
    "    return a * b\n",
    "\n",
    "def div(a,b):\n",
    "    return a / b\n",
    "\n",
    "def som(a,b):\n",
    "    return a + b\n",
    "\n",
    "def sub(a,b):\n",
    "    return a - b\n",
    "print(\"Bem vindo a calculadora\")\n",
    "print(\"Escolha sua açao\")\n",
    "x = input(\"Multiplicar / Dividir / Somar / Subtrair: \").strip()"
   ]
  },
  {
   "cell_type": "code",
   "execution_count": 18,
   "id": "0a299f49",
   "metadata": {},
   "outputs": [
    {
     "name": "stdout",
     "output_type": "stream",
     "text": [
      "Digite o primeiro numero:45\n",
      "Digite o primeiro segundo:56\n"
     ]
    }
   ],
   "source": [
    "a = float(input(\"Digite o primeiro numero:\"))\n",
    "b = float(input(\"Digite o primeiro segundo:\"))"
   ]
  },
  {
   "cell_type": "code",
   "execution_count": 19,
   "id": "de06da65",
   "metadata": {},
   "outputs": [],
   "source": [
    "y = {\n",
    "    \"Multiplicar\": Mult,\n",
    "    \"Dividir\": div,\n",
    "    \"Somar\": som,\n",
    "    \"Subtrair\": sub\n",
    "}"
   ]
  },
  {
   "cell_type": "code",
   "execution_count": 20,
   "id": "a5e2e38c",
   "metadata": {},
   "outputs": [
    {
     "name": "stdout",
     "output_type": "stream",
     "text": [
      "O resultado de Somar é: 101.0\n"
     ]
    }
   ],
   "source": [
    "if x in y:\n",
    "    resultado = y[x](a, b)\n",
    "    print(f\"O resultado de {x} é: {resultado}\")\n",
    "else:\n",
    "    print(\"Operação inválida.\")"
   ]
  }
 ],
 "metadata": {
  "kernelspec": {
   "display_name": "Python 3 (ipykernel)",
   "language": "python",
   "name": "python3"
  },
  "language_info": {
   "codemirror_mode": {
    "name": "ipython",
    "version": 3
   },
   "file_extension": ".py",
   "mimetype": "text/x-python",
   "name": "python",
   "nbconvert_exporter": "python",
   "pygments_lexer": "ipython3",
   "version": "3.9.13"
  }
 },
 "nbformat": 4,
 "nbformat_minor": 5
}

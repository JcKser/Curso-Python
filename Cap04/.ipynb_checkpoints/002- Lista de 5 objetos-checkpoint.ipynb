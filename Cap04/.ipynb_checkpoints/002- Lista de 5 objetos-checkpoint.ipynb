{
 "cells": [
  {
   "cell_type": "code",
   "execution_count": 3,
   "id": "5a12c52e",
   "metadata": {},
   "outputs": [],
   "source": [
    "List = [x for x in range(5)]"
   ]
  },
  {
   "cell_type": "code",
   "execution_count": 4,
   "id": "17431991",
   "metadata": {},
   "outputs": [
    {
     "name": "stdout",
     "output_type": "stream",
     "text": [
      "Digite o nome de 5 onbjetos\n"
     ]
    }
   ],
   "source": [
    "print('Digite o nome de 5 objetos:')"
   ]
  },
  {
   "cell_type": "code",
   "execution_count": 6,
   "id": "619b7a73",
   "metadata": {},
   "outputs": [
    {
     "name": "stdout",
     "output_type": "stream",
     "text": [
      "pokemon\n",
      "dragon ball\n",
      "loiras\n",
      "casadas \n",
      "cansadas\n"
     ]
    }
   ],
   "source": [
    "for i in range(len(List)):\n",
    "    new_obj = input()\n",
    "    List[i]= new_obj"
   ]
  },
  {
   "cell_type": "code",
   "execution_count": 7,
   "id": "fe812412",
   "metadata": {},
   "outputs": [
    {
     "name": "stdout",
     "output_type": "stream",
     "text": [
      "['pokemon', 'dragon ball', 'loiras', 'casadas ', 'cansadas']\n"
     ]
    }
   ],
   "source": [
    "print(List)"
   ]
  },
  {
   "cell_type": "code",
   "execution_count": null,
   "id": "bc099bd6",
   "metadata": {},
   "outputs": [],
   "source": []
  }
 ],
 "metadata": {
  "kernelspec": {
   "display_name": "Python 3 (ipykernel)",
   "language": "python",
   "name": "python3"
  },
  "language_info": {
   "codemirror_mode": {
    "name": "ipython",
    "version": 3
   },
   "file_extension": ".py",
   "mimetype": "text/x-python",
   "name": "python",
   "nbconvert_exporter": "python",
   "pygments_lexer": "ipython3",
   "version": "3.9.13"
  }
 },
 "nbformat": 4,
 "nbformat_minor": 5
}

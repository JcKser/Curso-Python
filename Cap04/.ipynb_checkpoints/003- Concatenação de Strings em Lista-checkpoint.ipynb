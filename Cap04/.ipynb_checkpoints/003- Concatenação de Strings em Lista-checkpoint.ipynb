{
 "cells": [
  {
   "cell_type": "code",
   "execution_count": 1,
   "id": "e612f978",
   "metadata": {},
   "outputs": [],
   "source": [
    "List= [x for x in range(3)]"
   ]
  },
  {
   "cell_type": "code",
   "execution_count": 2,
   "id": "5129e97d",
   "metadata": {},
   "outputs": [
    {
     "name": "stdout",
     "output_type": "stream",
     "text": [
      "Digite sua frase:Yasmin eh bonita\n",
      "Digite outra frase:e sua irma tbm\n"
     ]
    }
   ],
   "source": [
    "for i in range(2):\n",
    "     if (i == 1):\n",
    "        frase_i = input('Digite outra frase:')\n",
    "        List[i] = frase_i\n",
    "     else: \n",
    "        frase_i = input('Digite sua frase:')\n",
    "        List[i] = frase_i  "
   ]
  },
  {
   "cell_type": "code",
   "execution_count": 3,
   "id": "94055ae3",
   "metadata": {},
   "outputs": [],
   "source": [
    "List[2] = List[0] + List[1]"
   ]
  },
  {
   "cell_type": "code",
   "execution_count": 4,
   "id": "b53b1997",
   "metadata": {},
   "outputs": [
    {
     "name": "stdout",
     "output_type": "stream",
     "text": [
      "['Yasmin eh bonita', 'e sua irma tbm', 'Yasmin eh bonitae sua irma tbm']\n"
     ]
    }
   ],
   "source": [
    "print(List)"
   ]
  },
  {
   "cell_type": "code",
   "execution_count": null,
   "id": "4503f620",
   "metadata": {},
   "outputs": [],
   "source": []
  }
 ],
 "metadata": {
  "kernelspec": {
   "display_name": "Python 3 (ipykernel)",
   "language": "python",
   "name": "python3"
  },
  "language_info": {
   "codemirror_mode": {
    "name": "ipython",
    "version": 3
   },
   "file_extension": ".py",
   "mimetype": "text/x-python",
   "name": "python",
   "nbconvert_exporter": "python",
   "pygments_lexer": "ipython3",
   "version": "3.9.13"
  }
 },
 "nbformat": 4,
 "nbformat_minor": 5
}

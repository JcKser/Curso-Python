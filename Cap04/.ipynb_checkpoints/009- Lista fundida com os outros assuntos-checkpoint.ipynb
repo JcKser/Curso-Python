{
 "cells": [
  {
   "cell_type": "code",
   "execution_count": 17,
   "id": "931cf695",
   "metadata": {},
   "outputs": [],
   "source": [
    "list = [None] * 4"
   ]
  },
  {
   "cell_type": "code",
   "execution_count": 18,
   "id": "dcfa7b96",
   "metadata": {},
   "outputs": [
    {
     "name": "stdout",
     "output_type": "stream",
     "text": [
      "Digite a primeira frase da lista:Yasmin eh bonita\n"
     ]
    }
   ],
   "source": [
    "list[0] = input('Digite a primeira frase da lista:')"
   ]
  },
  {
   "cell_type": "code",
   "execution_count": 19,
   "id": "89f911bc",
   "metadata": {},
   "outputs": [],
   "source": [
    "tupla1= (\"Amo vc\" , 65)"
   ]
  },
  {
   "cell_type": "code",
   "execution_count": 20,
   "id": "80636d3f",
   "metadata": {},
   "outputs": [],
   "source": [
    "list[1] = tupla1"
   ]
  },
  {
   "cell_type": "code",
   "execution_count": 21,
   "id": "e4225b71",
   "metadata": {},
   "outputs": [],
   "source": [
    "dict = {} "
   ]
  },
  {
   "cell_type": "code",
   "execution_count": 22,
   "id": "5b99fcfe",
   "metadata": {},
   "outputs": [
    {
     "name": "stdout",
     "output_type": "stream",
     "text": [
      "Digite o nome da chave:\n",
      "amor\n",
      "Digite o valor numerico do elemento:\n",
      "35\n",
      "Digite o nome da chave:\n",
      "Linda\n",
      "Digite o valor numerico do elemento:\n",
      "100\n"
     ]
    }
   ],
   "source": [
    "for i in range(2):   \n",
    "        print('Digite o nome da chave:')\n",
    "        chave = input()\n",
    "        print('Digite o valor numerico do elemento:')\n",
    "        elemento = int(input())\n",
    "        dict[chave]= elemento"
   ]
  },
  {
   "cell_type": "code",
   "execution_count": 23,
   "id": "83f594a8",
   "metadata": {},
   "outputs": [],
   "source": [
    "list[2] = dict"
   ]
  },
  {
   "cell_type": "code",
   "execution_count": 24,
   "id": "3e06158b",
   "metadata": {},
   "outputs": [
    {
     "name": "stdout",
     "output_type": "stream",
     "text": [
      "Digite um valor do elemento ttipo float:3.5\n"
     ]
    }
   ],
   "source": [
    "list[3]= float(input('Digite um valor do elemento ttipo float:'))"
   ]
  },
  {
   "cell_type": "code",
   "execution_count": 25,
   "id": "9a000eab",
   "metadata": {},
   "outputs": [
    {
     "name": "stdout",
     "output_type": "stream",
     "text": [
      "['Yasmin eh bonita', ('Amo vc', 65), {'amor': 35, 'Linda': 100}, 3.5]\n"
     ]
    }
   ],
   "source": [
    "print(list)"
   ]
  },
  {
   "cell_type": "code",
   "execution_count": null,
   "id": "40828803",
   "metadata": {},
   "outputs": [],
   "source": []
  }
 ],
 "metadata": {
  "kernelspec": {
   "display_name": "Python 3 (ipykernel)",
   "language": "python",
   "name": "python3"
  },
  "language_info": {
   "codemirror_mode": {
    "name": "ipython",
    "version": 3
   },
   "file_extension": ".py",
   "mimetype": "text/x-python",
   "name": "python",
   "nbconvert_exporter": "python",
   "pygments_lexer": "ipython3",
   "version": "3.9.13"
  }
 },
 "nbformat": 4,
 "nbformat_minor": 5
}

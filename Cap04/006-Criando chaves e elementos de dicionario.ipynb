{
 "cells": [
  {
   "cell_type": "code",
   "execution_count": 1,
   "id": "31751a04",
   "metadata": {},
   "outputs": [],
   "source": [
    "dict = {}"
   ]
  },
  {
   "cell_type": "code",
   "execution_count": 2,
   "id": "1a321e5f",
   "metadata": {},
   "outputs": [
    {
     "name": "stdout",
     "output_type": "stream",
     "text": [
      "Digite quantas chaves e elementos tera esse dicionario:\n"
     ]
    }
   ],
   "source": [
    "print('Digite quantas chaves e elementos tera esse dicionario:')"
   ]
  },
  {
   "cell_type": "code",
   "execution_count": 3,
   "id": "7fbab946",
   "metadata": {},
   "outputs": [
    {
     "name": "stdout",
     "output_type": "stream",
     "text": [
      "5\n"
     ]
    }
   ],
   "source": [
    "x = int(input())"
   ]
  },
  {
   "cell_type": "code",
   "execution_count": 4,
   "id": "0e568cc5",
   "metadata": {},
   "outputs": [
    {
     "name": "stdout",
     "output_type": "stream",
     "text": [
      "Digite o nome da chave:\n",
      "Julia\n",
      "Digite um elemento inteiro:\n",
      "35\n",
      "Digite o nome da chave:\n",
      "Rafeal\n",
      "Digite um elemento inteiro:\n",
      "15\n",
      "Digite o nome da chave:\n",
      "Leandra\n",
      "Digite um elemento inteiro:\n",
      "45\n",
      "Digite o nome da chave:\n",
      "rimuru \n",
      "Digite um elemento inteiro:\n",
      "67\n",
      "Digite o nome da chave:\n",
      "Litia \n",
      "Digite um elemento inteiro:\n",
      "90\n"
     ]
    }
   ],
   "source": [
    "for i in range(x):\n",
    "    print('Digite o nome da chave:')\n",
    "    chave = input()\n",
    "    print('Digite um elemento inteiro:')\n",
    "    elemento = int(input())\n",
    "    dict[chave] = elemento"
   ]
  },
  {
   "cell_type": "code",
   "execution_count": 5,
   "id": "ace3cbd4",
   "metadata": {},
   "outputs": [
    {
     "name": "stdout",
     "output_type": "stream",
     "text": [
      "{'Julia': 35, 'Rafeal': 15, 'Leandra': 45, 'rimuru ': 67, 'Litia ': 90}\n"
     ]
    }
   ],
   "source": [
    "print(dict)"
   ]
  }
 ],
 "metadata": {
  "kernelspec": {
   "display_name": "Python 3 (ipykernel)",
   "language": "python",
   "name": "python3"
  },
  "language_info": {
   "codemirror_mode": {
    "name": "ipython",
    "version": 3
   },
   "file_extension": ".py",
   "mimetype": "text/x-python",
   "name": "python",
   "nbconvert_exporter": "python",
   "pygments_lexer": "ipython3",
   "version": "3.9.13"
  }
 },
 "nbformat": 4,
 "nbformat_minor": 5
}

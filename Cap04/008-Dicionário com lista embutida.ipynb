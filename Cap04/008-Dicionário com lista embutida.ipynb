{
 "cells": [
  {
   "cell_type": "code",
   "execution_count": 4,
   "id": "630464d1",
   "metadata": {},
   "outputs": [],
   "source": [
    "dict={}"
   ]
  },
  {
   "cell_type": "code",
   "execution_count": 5,
   "id": "0193906f",
   "metadata": {},
   "outputs": [],
   "source": [
    "list=[]"
   ]
  },
  {
   "cell_type": "code",
   "execution_count": 6,
   "id": "b13e171f",
   "metadata": {},
   "outputs": [
    {
     "name": "stdout",
     "output_type": "stream",
     "text": [
      "Criando dicionario com lista embutida\n"
     ]
    }
   ],
   "source": [
    "print('Criando dicionario com lista embutida')"
   ]
  },
  {
   "cell_type": "code",
   "execution_count": 7,
   "id": "b20ac092",
   "metadata": {},
   "outputs": [
    {
     "name": "stdout",
     "output_type": "stream",
     "text": [
      "Digite o nome da chave:\n",
      "loka\n",
      "Digite o valor numerico do elemento:\n",
      "45\n",
      "Digite o nome da chave:\n",
      "linda\n",
      "Digite o valor numerico do elemento:\n",
      "4\n",
      "Começando Lista\n",
      "Quantos elementos na lista?\n",
      "4\n",
      "Digite o valor do elemento:\n",
      "34\n",
      "Digite o valor do elemento:\n",
      "34\n",
      "Digite o valor do elemento:\n",
      "56\n",
      "Digite o valor do elemento:\n",
      "76\n"
     ]
    }
   ],
   "source": [
    "for i in range(3):\n",
    "    if (i == 2):\n",
    "        print('Começando Lista')\n",
    "        print('Quantos elementos na lista?')\n",
    "        x = int(input())\n",
    "        list = [0]*x\n",
    "        for j in range(x):\n",
    "            print('Digite o valor do elemento:')\n",
    "            num = int(input())\n",
    "            list[j] = num\n",
    "            dict['Lista']= list\n",
    "    else:\n",
    "    \n",
    "        print('Digite o nome da chave:')\n",
    "        chave = input()\n",
    "        print('Digite o valor numerico do elemento:')\n",
    "        elemento = int(input())\n",
    "        dict[chave]= elemento"
   ]
  },
  {
   "cell_type": "code",
   "execution_count": 8,
   "id": "0675ca08",
   "metadata": {},
   "outputs": [
    {
     "name": "stdout",
     "output_type": "stream",
     "text": [
      "{'loka': 45, 'linda': 4, 'Lista': [34, 34, 56, 76]}\n"
     ]
    }
   ],
   "source": [
    "print(dict)"
   ]
  },
  {
   "cell_type": "code",
   "execution_count": null,
   "id": "11f1d38b",
   "metadata": {},
   "outputs": [],
   "source": []
  }
 ],
 "metadata": {
  "kernelspec": {
   "display_name": "Python 3 (ipykernel)",
   "language": "python",
   "name": "python3"
  },
  "language_info": {
   "codemirror_mode": {
    "name": "ipython",
    "version": 3
   },
   "file_extension": ".py",
   "mimetype": "text/x-python",
   "name": "python",
   "nbconvert_exporter": "python",
   "pygments_lexer": "ipython3",
   "version": "3.9.13"
  }
 },
 "nbformat": 4,
 "nbformat_minor": 5
}

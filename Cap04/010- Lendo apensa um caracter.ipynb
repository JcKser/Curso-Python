{
 "cells": [
  {
   "cell_type": "code",
   "execution_count": 1,
   "id": "db995c7e",
   "metadata": {},
   "outputs": [],
   "source": [
    "y = \"Adoro comer cachorro quente, mas minha namorada não deixa eu comer\""
   ]
  },
  {
   "cell_type": "code",
   "execution_count": 2,
   "id": "b4a61fcc",
   "metadata": {},
   "outputs": [],
   "source": [
    "x = \"Cientista de Dados é o profissional mais sexy do século XXI\""
   ]
  },
  {
   "cell_type": "code",
   "execution_count": 3,
   "id": "f05941e3",
   "metadata": {},
   "outputs": [
    {
     "name": "stdout",
     "output_type": "stream",
     "text": [
      "A \n",
      "\n",
      "d \n",
      "\n",
      "o \n",
      "\n",
      "r \n",
      "\n",
      "o \n",
      "\n",
      "  \n",
      "\n",
      "c \n",
      "\n",
      "o \n",
      "\n",
      "m \n",
      "\n",
      "e \n",
      "\n",
      "r \n",
      "\n",
      "  \n",
      "\n",
      "c \n",
      "\n",
      "a \n",
      "\n",
      "c \n",
      "\n",
      "h \n",
      "\n",
      "o \n",
      "\n",
      "r \n",
      "\n"
     ]
    }
   ],
   "source": [
    "for i in range(18):\n",
    "    print(y[i], \"\\n\")"
   ]
  },
  {
   "cell_type": "code",
   "execution_count": 4,
   "id": "ac87f28b",
   "metadata": {},
   "outputs": [
    {
     "name": "stdout",
     "output_type": "stream",
     "text": [
      "C \n",
      "\n",
      "i \n",
      "\n",
      "e \n",
      "\n",
      "n \n",
      "\n",
      "t \n",
      "\n",
      "i \n",
      "\n",
      "s \n",
      "\n",
      "t \n",
      "\n",
      "a \n",
      "\n",
      "  \n",
      "\n",
      "d \n",
      "\n",
      "e \n",
      "\n",
      "  \n",
      "\n",
      "D \n",
      "\n",
      "a \n",
      "\n",
      "d \n",
      "\n",
      "o \n",
      "\n",
      "s \n",
      "\n"
     ]
    }
   ],
   "source": [
    "for i in range(18):\n",
    "    print(x[i], \"\\n\")"
   ]
  },
  {
   "cell_type": "code",
   "execution_count": null,
   "id": "eefdf3d0",
   "metadata": {},
   "outputs": [],
   "source": []
  }
 ],
 "metadata": {
  "kernelspec": {
   "display_name": "Python 3 (ipykernel)",
   "language": "python",
   "name": "python3"
  },
  "language_info": {
   "codemirror_mode": {
    "name": "ipython",
    "version": 3
   },
   "file_extension": ".py",
   "mimetype": "text/x-python",
   "name": "python",
   "nbconvert_exporter": "python",
   "pygments_lexer": "ipython3",
   "version": "3.9.13"
  }
 },
 "nbformat": 4,
 "nbformat_minor": 5
}

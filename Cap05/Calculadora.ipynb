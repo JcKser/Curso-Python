{
 "cells": [
  {
   "cell_type": "code",
   "execution_count": 1,
   "id": "48e239c2",
   "metadata": {},
   "outputs": [],
   "source": [
    "def declarandoXeY():\n",
    "    x = int(input(\"Digite o primeiro valor:\"))\n",
    "    y = int(input(\"Digite o segundo valor:\"))\n",
    "    return x, y"
   ]
  },
  {
   "cell_type": "code",
   "execution_count": 2,
   "id": "200a53f5",
   "metadata": {},
   "outputs": [],
   "source": [
    "def somar():\n",
    "    return x+y"
   ]
  },
  {
   "cell_type": "code",
   "execution_count": 3,
   "id": "9130f794",
   "metadata": {},
   "outputs": [],
   "source": [
    "def subtrair():\n",
    "    return x-y"
   ]
  },
  {
   "cell_type": "code",
   "execution_count": 4,
   "id": "a4a0ea40",
   "metadata": {},
   "outputs": [],
   "source": [
    "def multiplicar():\n",
    "    return x*y"
   ]
  },
  {
   "cell_type": "code",
   "execution_count": 5,
   "id": "7b5a0e89",
   "metadata": {},
   "outputs": [],
   "source": [
    "def dividir():\n",
    "    return x/y"
   ]
  },
  {
   "cell_type": "code",
   "execution_count": 6,
   "id": "c28c4f5f",
   "metadata": {},
   "outputs": [
    {
     "name": "stdout",
     "output_type": "stream",
     "text": [
      "Bem Vindo a Calculadora\n",
      "\n",
      "Escolha qual operação deseja fazer:\n",
      "\n"
     ]
    }
   ],
   "source": [
    "print(\"Bem Vindo a Calculadora\\n\")\n",
    "print(\"Escolha qual operação deseja fazer:\\n\")"
   ]
  },
  {
   "cell_type": "code",
   "execution_count": 7,
   "id": "df5d64d3",
   "metadata": {},
   "outputs": [
    {
     "name": "stdout",
     "output_type": "stream",
     "text": [
      "1 - Somar \n",
      " 2 - Subtrair \n",
      " 3 - Multiplicar \n",
      " 4 - Dividir \n",
      "4\n"
     ]
    }
   ],
   "source": [
    "z = int(input(\"1 - Somar \\n 2 - Subtrair \\n 3 - Multiplicar \\n 4 - Dividir \\n\"))"
   ]
  },
  {
   "cell_type": "code",
   "execution_count": 8,
   "id": "ca6ca3d1",
   "metadata": {},
   "outputs": [],
   "source": [
    "if z == 1:\n",
    "    x,y= declarandoXeY()\n",
    "    resultado=somar()\n",
    "    print(\"O Valor de x = {} somado a y = {} é igual ao resultado = {}\".format(x, y, resultado))"
   ]
  },
  {
   "cell_type": "code",
   "execution_count": 9,
   "id": "91f59089",
   "metadata": {},
   "outputs": [],
   "source": [
    "if z == 2:\n",
    "    x,y= declarandoXeY()\n",
    "    resultado=subtrair()\n",
    "    print(\"O Valor de x = {} subtraindo a y = {} é igual ao resultado = {}\".format(x, y, resultado))"
   ]
  },
  {
   "cell_type": "code",
   "execution_count": 10,
   "id": "f90266f2",
   "metadata": {},
   "outputs": [],
   "source": [
    "if z == 3:\n",
    "    x,y= declarandoXeY()\n",
    "    resultado=multiplicar()\n",
    "    print(\"O Valor de x = {} multiplicando a y = {} é igual ao resultado = {}\".format(x, y, resultado))\n",
    "    "
   ]
  },
  {
   "cell_type": "code",
   "execution_count": 12,
   "id": "b5071aa4",
   "metadata": {},
   "outputs": [
    {
     "name": "stdout",
     "output_type": "stream",
     "text": [
      "Digite o primeiro valor:90\n",
      "Digite o segundo valor:58\n",
      "O Valor de x = 90 dividindo a y = 58 é igual ao resultado = 1.5517241379310345\n"
     ]
    }
   ],
   "source": [
    "if z == 4:\n",
    "    x,y= declarandoXeY()\n",
    "    resultado=dividir()\n",
    "    print(\"O Valor de x = {} dividindo a y = {} é igual ao resultado = {}\".format(x, y, resultado))\n"
   ]
  },
  {
   "cell_type": "code",
   "execution_count": null,
   "id": "5bf7ce55",
   "metadata": {},
   "outputs": [],
   "source": []
  }
 ],
 "metadata": {
  "kernelspec": {
   "display_name": "Python 3 (ipykernel)",
   "language": "python",
   "name": "python3"
  },
  "language_info": {
   "codemirror_mode": {
    "name": "ipython",
    "version": 3
   },
   "file_extension": ".py",
   "mimetype": "text/x-python",
   "name": "python",
   "nbconvert_exporter": "python",
   "pygments_lexer": "ipython3",
   "version": "3.9.13"
  }
 },
 "nbformat": 4,
 "nbformat_minor": 5
}

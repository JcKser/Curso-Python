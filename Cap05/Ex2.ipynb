{
 "cells": [
  {
   "cell_type": "code",
   "execution_count": 1,
   "id": "c26cd121",
   "metadata": {},
   "outputs": [],
   "source": [
    "def strings():\n",
    "    x = input(\"Escreva sua frase:\\n\")\n",
    "    print(x.upper())"
   ]
  },
  {
   "cell_type": "code",
   "execution_count": 2,
   "id": "2690cd1c",
   "metadata": {},
   "outputs": [
    {
     "name": "stdout",
     "output_type": "stream",
     "text": [
      "Bem vindo ao minimizador de string\n"
     ]
    }
   ],
   "source": [
    "print(\"Bem vindo ao minimizador de string\")"
   ]
  },
  {
   "cell_type": "code",
   "execution_count": 3,
   "id": "4f2ebee6",
   "metadata": {},
   "outputs": [
    {
     "name": "stdout",
     "output_type": "stream",
     "text": [
      "Escreva sua frase:\n",
      "eu amo coca\n",
      "EU AMO COCA\n"
     ]
    }
   ],
   "source": [
    "strings()"
   ]
  },
  {
   "cell_type": "code",
   "execution_count": null,
   "id": "25cf3c48",
   "metadata": {},
   "outputs": [],
   "source": []
  }
 ],
 "metadata": {
  "kernelspec": {
   "display_name": "Python 3 (ipykernel)",
   "language": "python",
   "name": "python3"
  },
  "language_info": {
   "codemirror_mode": {
    "name": "ipython",
    "version": 3
   },
   "file_extension": ".py",
   "mimetype": "text/x-python",
   "name": "python",
   "nbconvert_exporter": "python",
   "pygments_lexer": "ipython3",
   "version": "3.9.13"
  }
 },
 "nbformat": 4,
 "nbformat_minor": 5
}

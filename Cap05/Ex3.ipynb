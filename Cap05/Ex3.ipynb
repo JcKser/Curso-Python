{
 "cells": [
  {
   "cell_type": "code",
   "execution_count": 1,
   "id": "353da855",
   "metadata": {},
   "outputs": [],
   "source": [
    "def criarlista():\n",
    "    x=int(input('Quantos elementos deseja por na lista?\\n'))\n",
    "    list = []\n",
    "    for i in range(x):\n",
    "        z=(input('Digite seus elementos\\n'))\n",
    "        list.append(z)\n",
    "    return list"
   ]
  },
  {
   "cell_type": "code",
   "execution_count": 2,
   "id": "84388507",
   "metadata": {},
   "outputs": [],
   "source": [
    "def adicionar(list):\n",
    "    x=input('Quer adicionar 2 elementos amais?\\n')\n",
    "    if (x == 'Sim'):\n",
    "        for i in range(2):\n",
    "            z=int(input('Digite seus elementos\\n'))\n",
    "            list.append(z)"
   ]
  },
  {
   "cell_type": "code",
   "execution_count": 3,
   "id": "0b25b417",
   "metadata": {},
   "outputs": [
    {
     "name": "stdout",
     "output_type": "stream",
     "text": [
      "Bem Vindo a Lista\n"
     ]
    }
   ],
   "source": [
    "print('Bem Vindo a Lista')"
   ]
  },
  {
   "cell_type": "code",
   "execution_count": 4,
   "id": "b0dc08a6",
   "metadata": {},
   "outputs": [
    {
     "name": "stdout",
     "output_type": "stream",
     "text": [
      "Quantos elementos deseja por na lista?\n",
      "3\n",
      "Digite seus elementos\n",
      "5\n",
      "Digite seus elementos\n",
      "8\n",
      "Digite seus elementos\n",
      "9\n"
     ]
    }
   ],
   "source": [
    "criarlista()"
   ]
  },
  {
   "cell_type": "code",
   "execution_count": 5,
   "id": "cd77b3c1",
   "metadata": {},
   "outputs": [
    {
     "name": "stdout",
     "output_type": "stream",
     "text": [
      "Quer adicionar 2 elementos amais?\n",
      "Sim\n",
      "Digite seus elementos\n",
      "4\n"
     ]
    },
    {
     "ename": "TypeError",
     "evalue": "descriptor 'append' for 'list' objects doesn't apply to a 'int' object",
     "output_type": "error",
     "traceback": [
      "\u001b[1;31m---------------------------------------------------------------------------\u001b[0m",
      "\u001b[1;31mTypeError\u001b[0m                                 Traceback (most recent call last)",
      "\u001b[1;32m~\\AppData\\Local\\Temp\\ipykernel_10220\\1136644138.py\u001b[0m in \u001b[0;36m<module>\u001b[1;34m\u001b[0m\n\u001b[1;32m----> 1\u001b[1;33m \u001b[0madicionar\u001b[0m\u001b[1;33m(\u001b[0m\u001b[1;33m)\u001b[0m\u001b[1;33m\u001b[0m\u001b[1;33m\u001b[0m\u001b[0m\n\u001b[0m",
      "\u001b[1;32m~\\AppData\\Local\\Temp\\ipykernel_10220\\1092657018.py\u001b[0m in \u001b[0;36madicionar\u001b[1;34m()\u001b[0m\n\u001b[0;32m      4\u001b[0m         \u001b[1;32mfor\u001b[0m \u001b[0mi\u001b[0m \u001b[1;32min\u001b[0m \u001b[0mrange\u001b[0m\u001b[1;33m(\u001b[0m\u001b[1;36m2\u001b[0m\u001b[1;33m)\u001b[0m\u001b[1;33m:\u001b[0m\u001b[1;33m\u001b[0m\u001b[1;33m\u001b[0m\u001b[0m\n\u001b[0;32m      5\u001b[0m             \u001b[0mz\u001b[0m\u001b[1;33m=\u001b[0m\u001b[0mint\u001b[0m\u001b[1;33m(\u001b[0m\u001b[0minput\u001b[0m\u001b[1;33m(\u001b[0m\u001b[1;34m'Digite seus elementos\\n'\u001b[0m\u001b[1;33m)\u001b[0m\u001b[1;33m)\u001b[0m\u001b[1;33m\u001b[0m\u001b[1;33m\u001b[0m\u001b[0m\n\u001b[1;32m----> 6\u001b[1;33m             \u001b[0mlist\u001b[0m\u001b[1;33m.\u001b[0m\u001b[0mappend\u001b[0m\u001b[1;33m(\u001b[0m\u001b[0mz\u001b[0m\u001b[1;33m)\u001b[0m\u001b[1;33m\u001b[0m\u001b[1;33m\u001b[0m\u001b[0m\n\u001b[0m",
      "\u001b[1;31mTypeError\u001b[0m: descriptor 'append' for 'list' objects doesn't apply to a 'int' object"
     ]
    }
   ],
   "source": [
    "adicionar()"
   ]
  },
  {
   "cell_type": "code",
   "execution_count": null,
   "id": "a9dd18b9",
   "metadata": {},
   "outputs": [],
   "source": [
    "print(list)"
   ]
  }
 ],
 "metadata": {
  "kernelspec": {
   "display_name": "Python 3 (ipykernel)",
   "language": "python",
   "name": "python3"
  },
  "language_info": {
   "codemirror_mode": {
    "name": "ipython",
    "version": 3
   },
   "file_extension": ".py",
   "mimetype": "text/x-python",
   "name": "python",
   "nbconvert_exporter": "python",
   "pygments_lexer": "ipython3",
   "version": "3.9.13"
  }
 },
 "nbformat": 4,
 "nbformat_minor": 5
}
